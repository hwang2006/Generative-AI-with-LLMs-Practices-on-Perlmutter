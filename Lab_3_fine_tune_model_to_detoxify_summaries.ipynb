{
 "cells": [
  {
   "cell_type": "code",
   "execution_count": 1,
   "id": "27946de2-409b-4c21-a27b-0d384ba0ea83",
   "metadata": {
    "tags": []
   },
   "outputs": [
    {
     "name": "stdout",
     "output_type": "stream",
     "text": [
      "Collecting git+https://github.com/lvwerra/trl.git@25fa1bd\n",
      "  Cloning https://github.com/lvwerra/trl.git (to revision 25fa1bd) to /tmp/pip-req-build-2k3cm3l5\n",
      "  Running command git clone --filter=blob:none --quiet https://github.com/lvwerra/trl.git /tmp/pip-req-build-2k3cm3l5\n",
      "\u001b[33m  WARNING: Did not find branch or tag '25fa1bd', assuming revision or ref.\u001b[0m\u001b[33m\n",
      "\u001b[0m  Running command git checkout -q 25fa1bd\n",
      "  Resolved https://github.com/lvwerra/trl.git to commit 25fa1bd\n",
      "  Preparing metadata (setup.py) ... \u001b[?25ldone\n",
      "\u001b[?25hRequirement already satisfied: torch>=1.4.0 in ./miniconda3/envs/genai/lib/python3.10/site-packages (from trl==0.4.2.dev0) (1.13.1)\n",
      "Requirement already satisfied: transformers>=4.18.0 in ./miniconda3/envs/genai/lib/python3.10/site-packages (from trl==0.4.2.dev0) (4.34.1)\n",
      "Requirement already satisfied: numpy>=1.18.2 in ./miniconda3/envs/genai/lib/python3.10/site-packages (from trl==0.4.2.dev0) (1.26.0)\n",
      "Requirement already satisfied: accelerate in ./miniconda3/envs/genai/lib/python3.10/site-packages (from trl==0.4.2.dev0) (0.24.1)\n",
      "Requirement already satisfied: datasets in ./miniconda3/envs/genai/lib/python3.10/site-packages (from trl==0.4.2.dev0) (2.14.6)\n",
      "Requirement already satisfied: typing_extensions in ./miniconda3/envs/genai/lib/python3.10/site-packages (from torch>=1.4.0->trl==0.4.2.dev0) (4.7.1)\n",
      "Requirement already satisfied: filelock in ./miniconda3/envs/genai/lib/python3.10/site-packages (from transformers>=4.18.0->trl==0.4.2.dev0) (3.13.1)\n",
      "Requirement already satisfied: huggingface-hub<1.0,>=0.16.4 in ./miniconda3/envs/genai/lib/python3.10/site-packages (from transformers>=4.18.0->trl==0.4.2.dev0) (0.17.3)\n",
      "Requirement already satisfied: packaging>=20.0 in ./miniconda3/envs/genai/lib/python3.10/site-packages (from transformers>=4.18.0->trl==0.4.2.dev0) (23.1)\n",
      "Requirement already satisfied: pyyaml>=5.1 in ./miniconda3/envs/genai/lib/python3.10/site-packages (from transformers>=4.18.0->trl==0.4.2.dev0) (6.0.1)\n",
      "Requirement already satisfied: regex!=2019.12.17 in ./miniconda3/envs/genai/lib/python3.10/site-packages (from transformers>=4.18.0->trl==0.4.2.dev0) (2023.10.3)\n",
      "Requirement already satisfied: requests in ./miniconda3/envs/genai/lib/python3.10/site-packages (from transformers>=4.18.0->trl==0.4.2.dev0) (2.31.0)\n",
      "Requirement already satisfied: tokenizers<0.15,>=0.14 in ./miniconda3/envs/genai/lib/python3.10/site-packages (from transformers>=4.18.0->trl==0.4.2.dev0) (0.14.1)\n",
      "Requirement already satisfied: safetensors>=0.3.1 in ./miniconda3/envs/genai/lib/python3.10/site-packages (from transformers>=4.18.0->trl==0.4.2.dev0) (0.4.0)\n",
      "Requirement already satisfied: tqdm>=4.27 in ./miniconda3/envs/genai/lib/python3.10/site-packages (from transformers>=4.18.0->trl==0.4.2.dev0) (4.66.1)\n",
      "Requirement already satisfied: psutil in ./miniconda3/envs/genai/lib/python3.10/site-packages (from accelerate->trl==0.4.2.dev0) (5.9.0)\n",
      "Requirement already satisfied: pyarrow>=8.0.0 in ./miniconda3/envs/genai/lib/python3.10/site-packages (from datasets->trl==0.4.2.dev0) (13.0.0)\n",
      "Requirement already satisfied: dill<0.3.8,>=0.3.0 in ./miniconda3/envs/genai/lib/python3.10/site-packages (from datasets->trl==0.4.2.dev0) (0.3.7)\n",
      "Requirement already satisfied: pandas in ./miniconda3/envs/genai/lib/python3.10/site-packages (from datasets->trl==0.4.2.dev0) (2.1.2)\n",
      "Requirement already satisfied: xxhash in ./miniconda3/envs/genai/lib/python3.10/site-packages (from datasets->trl==0.4.2.dev0) (3.4.1)\n",
      "Requirement already satisfied: multiprocess in ./miniconda3/envs/genai/lib/python3.10/site-packages (from datasets->trl==0.4.2.dev0) (0.70.15)\n",
      "Requirement already satisfied: fsspec<=2023.10.0,>=2023.1.0 in ./miniconda3/envs/genai/lib/python3.10/site-packages (from fsspec[http]<=2023.10.0,>=2023.1.0->datasets->trl==0.4.2.dev0) (2023.10.0)\n",
      "Requirement already satisfied: aiohttp in ./miniconda3/envs/genai/lib/python3.10/site-packages (from datasets->trl==0.4.2.dev0) (3.8.6)\n",
      "Requirement already satisfied: attrs>=17.3.0 in ./miniconda3/envs/genai/lib/python3.10/site-packages (from aiohttp->datasets->trl==0.4.2.dev0) (23.1.0)\n",
      "Requirement already satisfied: charset-normalizer<4.0,>=2.0 in ./miniconda3/envs/genai/lib/python3.10/site-packages (from aiohttp->datasets->trl==0.4.2.dev0) (2.0.4)\n",
      "Requirement already satisfied: multidict<7.0,>=4.5 in ./miniconda3/envs/genai/lib/python3.10/site-packages (from aiohttp->datasets->trl==0.4.2.dev0) (6.0.4)\n",
      "Requirement already satisfied: async-timeout<5.0,>=4.0.0a3 in ./miniconda3/envs/genai/lib/python3.10/site-packages (from aiohttp->datasets->trl==0.4.2.dev0) (4.0.3)\n",
      "Requirement already satisfied: yarl<2.0,>=1.0 in ./miniconda3/envs/genai/lib/python3.10/site-packages (from aiohttp->datasets->trl==0.4.2.dev0) (1.9.2)\n",
      "Requirement already satisfied: frozenlist>=1.1.1 in ./miniconda3/envs/genai/lib/python3.10/site-packages (from aiohttp->datasets->trl==0.4.2.dev0) (1.4.0)\n",
      "Requirement already satisfied: aiosignal>=1.1.2 in ./miniconda3/envs/genai/lib/python3.10/site-packages (from aiohttp->datasets->trl==0.4.2.dev0) (1.3.1)\n",
      "Requirement already satisfied: idna<4,>=2.5 in ./miniconda3/envs/genai/lib/python3.10/site-packages (from requests->transformers>=4.18.0->trl==0.4.2.dev0) (3.4)\n",
      "Requirement already satisfied: urllib3<3,>=1.21.1 in ./miniconda3/envs/genai/lib/python3.10/site-packages (from requests->transformers>=4.18.0->trl==0.4.2.dev0) (1.26.18)\n",
      "Requirement already satisfied: certifi>=2017.4.17 in ./miniconda3/envs/genai/lib/python3.10/site-packages (from requests->transformers>=4.18.0->trl==0.4.2.dev0) (2023.7.22)\n",
      "Requirement already satisfied: python-dateutil>=2.8.2 in ./miniconda3/envs/genai/lib/python3.10/site-packages (from pandas->datasets->trl==0.4.2.dev0) (2.8.2)\n",
      "Requirement already satisfied: pytz>=2020.1 in ./miniconda3/envs/genai/lib/python3.10/site-packages (from pandas->datasets->trl==0.4.2.dev0) (2023.3.post1)\n",
      "Requirement already satisfied: tzdata>=2022.1 in ./miniconda3/envs/genai/lib/python3.10/site-packages (from pandas->datasets->trl==0.4.2.dev0) (2023.3)\n",
      "Requirement already satisfied: six>=1.5 in ./miniconda3/envs/genai/lib/python3.10/site-packages (from python-dateutil>=2.8.2->pandas->datasets->trl==0.4.2.dev0) (1.16.0)\n",
      "Building wheels for collected packages: trl\n",
      "  Building wheel for trl (setup.py) ... \u001b[?25ldone\n",
      "\u001b[?25h  Created wheel for trl: filename=trl-0.4.2.dev0-py3-none-any.whl size=67533 sha256=72c911b073f53c7babc812242a349cf76e392b705b732adbf807da7c201d12ab\n",
      "  Stored in directory: /tmp/pip-ephem-wheel-cache-e8wayng8/wheels/24/b4/20/2fa3a1e47c0411c39e198029315e3af2a2c1d59132913f136f\n",
      "Successfully built trl\n",
      "Installing collected packages: trl\n",
      "Successfully installed trl-0.4.2.dev0\n"
     ]
    }
   ],
   "source": [
    "!pip install git+https://github.com/lvwerra/trl.git@25fa1bd"
   ]
  },
  {
   "cell_type": "code",
   "execution_count": 1,
   "id": "d6ca6dfb-36f0-4f0a-890a-c2fc76afeb48",
   "metadata": {
    "tags": []
   },
   "outputs": [],
   "source": [
    "from transformers import pipeline, AutoTokenizer, AutoModelForSequenceClassification, AutoModelForSeq2SeqLM, GenerationConfig\n",
    "from datasets import load_dataset\n",
    "from peft import PeftModel, PeftConfig, LoraConfig, TaskType\n",
    "\n",
    "# trl: Transformer Reinforcement Learning library\n",
    "from trl import PPOTrainer, PPOConfig, AutoModelForSeq2SeqLMWithValueHead\n",
    "from trl import create_reference_model\n",
    "from trl.core import LengthSampler\n",
    "\n",
    "import torch\n",
    "import evaluate\n",
    "\n",
    "import numpy as np\n",
    "import pandas as pd\n",
    "\n",
    "# tqdm library makes the loops show a smart progress meter.\n",
    "from tqdm import tqdm\n",
    "tqdm.pandas()"
   ]
  },
  {
   "cell_type": "code",
   "execution_count": 2,
   "id": "c168144a-6025-4216-b0fc-14274b0d3342",
   "metadata": {
    "tags": []
   },
   "outputs": [
    {
     "data": {
      "text/plain": [
       "DatasetDict({\n",
       "    train: Dataset({\n",
       "        features: ['id', 'dialogue', 'summary', 'topic'],\n",
       "        num_rows: 12460\n",
       "    })\n",
       "    validation: Dataset({\n",
       "        features: ['id', 'dialogue', 'summary', 'topic'],\n",
       "        num_rows: 500\n",
       "    })\n",
       "    test: Dataset({\n",
       "        features: ['id', 'dialogue', 'summary', 'topic'],\n",
       "        num_rows: 1500\n",
       "    })\n",
       "})"
      ]
     },
     "execution_count": 2,
     "metadata": {},
     "output_type": "execute_result"
    }
   ],
   "source": [
    "model_name=\"google/flan-t5-base\"\n",
    "#model_name=\"google/flan-t5-large\"\n",
    "huggingface_dataset_name = \"knkarthick/dialogsum\"\n",
    "\n",
    "dataset_original = load_dataset(huggingface_dataset_name)\n",
    "\n",
    "dataset_original"
   ]
  },
  {
   "cell_type": "code",
   "execution_count": 3,
   "id": "58e382d5-d5ee-4ce5-9d0f-f8e60112b350",
   "metadata": {
    "tags": []
   },
   "outputs": [
    {
     "name": "stdout",
     "output_type": "stream",
     "text": [
      "DatasetDict({\n",
      "    train: Dataset({\n",
      "        features: ['id', 'dialogue', 'summary', 'topic', 'input_ids', 'query'],\n",
      "        num_rows: 8017\n",
      "    })\n",
      "    test: Dataset({\n",
      "        features: ['id', 'dialogue', 'summary', 'topic', 'input_ids', 'query'],\n",
      "        num_rows: 2005\n",
      "    })\n",
      "})\n"
     ]
    }
   ],
   "source": [
    "def build_dataset(model_name,\n",
    "                  dataset_name,\n",
    "                  input_min_text_length, \n",
    "                  input_max_text_length):\n",
    "\n",
    "    \"\"\"\n",
    "    Preprocess the dataset and split it into train and test parts.\n",
    "\n",
    "    Parameters:\n",
    "    - model_name (str): Tokenizer model name.\n",
    "    - dataset_name (str): Name of the dataset to load.\n",
    "    - input_min_text_length (int): Minimum length of the dialogues.\n",
    "    - input_max_text_length (int): Maximum length of the dialogues.\n",
    "        \n",
    "    Returns:\n",
    "    - dataset_splits (datasets.dataset_dict.DatasetDict): Preprocessed dataset containing train and test parts.\n",
    "    \"\"\"\n",
    "    \n",
    "    # load dataset (only \"train\" part will be enough for this lab).\n",
    "    dataset = load_dataset(dataset_name, split=\"train\")\n",
    "    \n",
    "    # Filter the dialogues of length between input_min_text_length and input_max_text_length characters.\n",
    "    dataset = dataset.filter(lambda x: len(x[\"dialogue\"]) > input_min_text_length and len(x[\"dialogue\"]) <= input_max_text_length, batched=False)\n",
    "\n",
    "    # Prepare tokenizer. Setting device_map=\"auto\" allows to switch between GPU and CPU automatically.\n",
    "    tokenizer = AutoTokenizer.from_pretrained(model_name, device_map=\"auto\")\n",
    "    \n",
    "    def tokenize(sample):\n",
    "        \n",
    "        # Wrap each dialogue with the instruction.\n",
    "        prompt = f\"\"\"\n",
    "Summarize the following conversation.\n",
    "\n",
    "{sample[\"dialogue\"]}\n",
    "\n",
    "Summary:\n",
    "\"\"\"\n",
    "        sample[\"input_ids\"] = tokenizer.encode(prompt)\n",
    "        \n",
    "        # This must be called \"query\", which is a requirement of our PPO library.\n",
    "        sample[\"query\"] = tokenizer.decode(sample[\"input_ids\"])\n",
    "        return sample\n",
    "\n",
    "    # Tokenize each dialogue.\n",
    "    dataset = dataset.map(tokenize, batched=False)\n",
    "    dataset.set_format(type=\"torch\")\n",
    "    \n",
    "    # Split the dataset into train and test parts.\n",
    "    dataset_splits = dataset.train_test_split(test_size=0.2, shuffle=False, seed=42)\n",
    "\n",
    "    return dataset_splits\n",
    "\n",
    "dataset = build_dataset(model_name=model_name,\n",
    "                        dataset_name=huggingface_dataset_name,\n",
    "                        input_min_text_length=200, \n",
    "                        input_max_text_length=1000)\n",
    "\n",
    "print(dataset)"
   ]
  },
  {
   "cell_type": "code",
   "execution_count": 4,
   "id": "f48a6d27-819e-4e1b-b175-846fb2bf7912",
   "metadata": {
    "tags": []
   },
   "outputs": [],
   "source": [
    "def print_number_of_trainable_model_parameters(model):\n",
    "    trainable_model_params = 0\n",
    "    all_model_params = 0\n",
    "    for _, param in model.named_parameters():\n",
    "        all_model_params += param.numel()\n",
    "        if param.requires_grad:\n",
    "            trainable_model_params += param.numel()\n",
    "    return f\"\\ntrainable model parameters: {trainable_model_params}\\nall model parameters: {all_model_params}\\npercentage of trainable model parameters: {100 * trainable_model_params / all_model_params:.2f}%\""
   ]
  },
  {
   "cell_type": "code",
   "execution_count": 5,
   "id": "245eda07-3c0d-4352-9bd5-c5a8e945e53b",
   "metadata": {
    "tags": []
   },
   "outputs": [
    {
     "name": "stdout",
     "output_type": "stream",
     "text": [
      "PEFT model parameters to be updated:\n",
      "\n",
      "trainable model parameters: 3538944\n",
      "all model parameters: 251116800\n",
      "percentage of trainable model parameters: 1.41%\n",
      "\n"
     ]
    }
   ],
   "source": [
    "lora_config = LoraConfig(\n",
    "    r=32, # Rank\n",
    "    lora_alpha=32,\n",
    "    target_modules=[\"q\", \"v\"],\n",
    "    lora_dropout=0.05,\n",
    "    bias=\"none\",\n",
    "    task_type=TaskType.SEQ_2_SEQ_LM # FLAN-T5\n",
    ")\n",
    "\n",
    "model = AutoModelForSeq2SeqLM.from_pretrained(model_name, \n",
    "                                              torch_dtype=torch.bfloat16)\n",
    "\n",
    "peft_model = PeftModel.from_pretrained(model, \n",
    "                                       './peft-dialogue-summary-checkpoint-local/', \n",
    "                                       lora_config=lora_config,\n",
    "                                       torch_dtype=torch.bfloat16, \n",
    "                                       device_map=\"auto\",                                       \n",
    "                                       is_trainable=True)\n",
    "\n",
    "print(f'PEFT model parameters to be updated:\\n{print_number_of_trainable_model_parameters(peft_model)}\\n')"
   ]
  },
  {
   "cell_type": "code",
   "execution_count": 6,
   "id": "c2ccb560-922d-41ad-aa82-573cccb611c6",
   "metadata": {
    "tags": []
   },
   "outputs": [
    {
     "name": "stdout",
     "output_type": "stream",
     "text": [
      "PPO model parameters to be updated (ValueHead + 769 params):\n",
      "\n",
      "trainable model parameters: 3539713\n",
      "all model parameters: 251117569\n",
      "percentage of trainable model parameters: 1.41%\n",
      "\n",
      "ValueHead(\n",
      "  (dropout): Dropout(p=0.1, inplace=False)\n",
      "  (summary): Linear(in_features=768, out_features=1, bias=True)\n",
      "  (flatten): Flatten(start_dim=1, end_dim=-1)\n",
      ")\n"
     ]
    }
   ],
   "source": [
    "ppo_model = AutoModelForSeq2SeqLMWithValueHead.from_pretrained(peft_model,                                                               \n",
    "                                                               torch_dtype=torch.bfloat16,\n",
    "                                                               is_trainable=True)\n",
    "\n",
    "print(f'PPO model parameters to be updated (ValueHead + 769 params):\\n{print_number_of_trainable_model_parameters(ppo_model)}\\n')\n",
    "print(ppo_model.v_head)"
   ]
  },
  {
   "cell_type": "code",
   "execution_count": 7,
   "id": "65df4385-e49a-4ff9-a7dd-c84392372816",
   "metadata": {
    "tags": []
   },
   "outputs": [
    {
     "name": "stdout",
     "output_type": "stream",
     "text": [
      "Reference model parameters to be updated:\n",
      "\n",
      "trainable model parameters: 0\n",
      "all model parameters: 251117569\n",
      "percentage of trainable model parameters: 0.00%\n",
      "\n"
     ]
    }
   ],
   "source": [
    "ref_model = create_reference_model(ppo_model)\n",
    "\n",
    "print(f'Reference model parameters to be updated:\\n{print_number_of_trainable_model_parameters(ref_model)}\\n')"
   ]
  },
  {
   "cell_type": "code",
   "execution_count": 8,
   "id": "d7205fa7-48a8-4e3a-b09f-a10d0758c22e",
   "metadata": {
    "tags": []
   },
   "outputs": [
    {
     "name": "stdout",
     "output_type": "stream",
     "text": [
      "{0: 'nothate', 1: 'hate'}\n"
     ]
    }
   ],
   "source": [
    "toxicity_model_name = \"facebook/roberta-hate-speech-dynabench-r4-target\"\n",
    "toxicity_tokenizer = AutoTokenizer.from_pretrained(toxicity_model_name, device_map=\"auto\")\n",
    "toxicity_model = AutoModelForSequenceClassification.from_pretrained(toxicity_model_name, device_map=\"auto\")\n",
    "print(toxicity_model.config.id2label)"
   ]
  },
  {
   "cell_type": "code",
   "execution_count": 9,
   "id": "13e5b6ad-6f49-4b84-9de7-35d729804086",
   "metadata": {
    "tags": []
   },
   "outputs": [
    {
     "name": "stdout",
     "output_type": "stream",
     "text": [
      "logits [not hate, hate]: [3.1140496730804443, -2.489488124847412]\n",
      "probabilities [not hate, hate]: [0.9963287711143494, 0.003671277780085802]\n",
      "reward (high): [3.1140496730804443]\n"
     ]
    }
   ],
   "source": [
    "non_toxic_text = \"#Person 1# tells Tommy that he didn't like the movie.\"\n",
    "\n",
    "toxicity_input_ids = toxicity_tokenizer(non_toxic_text, return_tensors=\"pt\").input_ids\n",
    "\n",
    "#logits = toxicity_model(input_ids=toxicity_input_ids).logits\n",
    "logits = toxicity_model(input_ids=toxicity_input_ids.to(\"cuda\")).logits\n",
    "\n",
    "print(f'logits [not hate, hate]: {logits.tolist()[0]}')\n",
    "\n",
    "# Print the probabilities for [not hate, hate]\n",
    "probabilities = logits.softmax(dim=-1).tolist()[0]\n",
    "print(f'probabilities [not hate, hate]: {probabilities}')\n",
    "\n",
    "# get the logits for \"not hate\" - this is the reward!\n",
    "not_hate_index = 0\n",
    "nothate_reward = (logits[:, not_hate_index]).tolist()\n",
    "print(f'reward (high): {nothate_reward}')"
   ]
  },
  {
   "cell_type": "code",
   "execution_count": 10,
   "id": "b02d32cd-3930-4240-b2a3-abbf77b43970",
   "metadata": {
    "tags": []
   },
   "outputs": [
    {
     "name": "stdout",
     "output_type": "stream",
     "text": [
      "logits [not hate, hate]: [3.1140496730804443, -2.489488124847412]\n",
      "probabilities [not hate, hate]: [0.9963287711143494, 0.003671277780085802]\n",
      "reward (high): [3.1140496730804443]\n"
     ]
    }
   ],
   "source": [
    "device = \"cuda:0\" if torch.cuda.is_available() else \"cpu\"\n",
    "non_toxic_text = \"#Person 1# tells Tommy that he didn't like the movie.\"\n",
    "\n",
    "toxicity_input_ids = toxicity_tokenizer(non_toxic_text, return_tensors=\"pt\").input_ids\n",
    "toxicity_input_ids = toxicity_input_ids.to(device)\n",
    "\n",
    "logits = toxicity_model(input_ids=toxicity_input_ids).logits\n",
    "print(f'logits [not hate, hate]: {logits.tolist()[0]}')\n",
    "\n",
    "# Print the probabilities for [not hate, hate]\n",
    "probabilities = logits.softmax(dim=-1).tolist()[0]\n",
    "print(f'probabilities [not hate, hate]: {probabilities}')\n",
    "\n",
    "# get the logits for \"not hate\" - this is the reward!\n",
    "not_hate_index = 0\n",
    "nothate_reward = (logits[:, not_hate_index]).tolist()\n",
    "print(f'reward (high): {nothate_reward}')"
   ]
  },
  {
   "cell_type": "code",
   "execution_count": 11,
   "id": "eb1b81cb-dece-461e-894d-2bd11a0c9717",
   "metadata": {
    "tags": []
   },
   "outputs": [
    {
     "name": "stdout",
     "output_type": "stream",
     "text": [
      "logits [not hate, hate]: [-0.6939336657524109, 0.3737802803516388]\n",
      "probabilities [not hate, hate]: [0.2558380663394928, 0.7441619634628296]\n",
      "reward (low): [-0.6939336657524109]\n"
     ]
    }
   ],
   "source": [
    "toxic_text = \"#Person 1# tells Tommy that the movie was terrible, dumb and stupid.\"\n",
    "\n",
    "toxicity_input_ids = toxicity_tokenizer(toxic_text, return_tensors=\"pt\").input_ids\n",
    "toxicity_input_ids = toxicity_input_ids.to(device)\n",
    "\n",
    "logits = toxicity_model(toxicity_input_ids).logits\n",
    "print(f'logits [not hate, hate]: {logits.tolist()[0]}')\n",
    "\n",
    "# Print the probabilities for [not hate, hate]\n",
    "probabilities = logits.softmax(dim=-1).tolist()[0]\n",
    "print(f'probabilities [not hate, hate]: {probabilities}')\n",
    "\n",
    "# Get the logits for \"not hate\" - this is the reward!\n",
    "nothate_reward = (logits[:, not_hate_index]).tolist() \n",
    "print(f'reward (low): {nothate_reward}')"
   ]
  },
  {
   "cell_type": "code",
   "execution_count": 12,
   "id": "e48e84e1-0866-4f57-aa89-2c50efd27911",
   "metadata": {
    "tags": []
   },
   "outputs": [
    {
     "name": "stdout",
     "output_type": "stream",
     "text": [
      "Reward model output:\n",
      "For non-toxic text\n",
      "[{'label': 'nothate', 'score': 3.1140496730804443}, {'label': 'hate', 'score': -2.489488124847412}]\n",
      "[{'label': 'nothate', 'score': 0.9963287711143494}, {'label': 'hate', 'score': 0.003671277780085802}]\n",
      "For toxic text\n",
      "[{'label': 'hate', 'score': 0.3737802803516388}, {'label': 'nothate', 'score': -0.6939336657524109}]\n",
      "[{'label': 'hate', 'score': 0.7441619634628296}, {'label': 'nothate', 'score': 0.2558380663394928}]\n"
     ]
    }
   ],
   "source": [
    "device = 0 if torch.cuda.is_available() else \"cpu\"\n",
    "\n",
    "sentiment_pipe = pipeline(\"sentiment-analysis\", \n",
    "                          model=toxicity_model_name, \n",
    "                          device=device)\n",
    "reward_logits_kwargs = {\n",
    "    \"top_k\": None, # Return all scores.\n",
    "    \"function_to_apply\": \"none\", # Set to \"none\" to retrieve raw logits.\n",
    "    \"batch_size\": 16\n",
    "}\n",
    "\n",
    "reward_probabilities_kwargs = {\n",
    "    \"top_k\": None, # Return all scores.\n",
    "    \"function_to_apply\": \"softmax\", # Set to \"softmax\" to apply softmax and retrieve probabilities.\n",
    "    \"batch_size\": 16\n",
    "}\n",
    "\n",
    "print(\"Reward model output:\")\n",
    "print(\"For non-toxic text\")\n",
    "print(sentiment_pipe(non_toxic_text, **reward_logits_kwargs))\n",
    "print(sentiment_pipe(non_toxic_text, **reward_probabilities_kwargs))\n",
    "print(\"For toxic text\")\n",
    "print(sentiment_pipe(toxic_text, **reward_logits_kwargs))\n",
    "print(sentiment_pipe(toxic_text, **reward_probabilities_kwargs))"
   ]
  },
  {
   "cell_type": "code",
   "execution_count": 13,
   "id": "992e3f38-08e6-450c-9537-a8d928c8c720",
   "metadata": {
    "tags": []
   },
   "outputs": [
    {
     "name": "stdout",
     "output_type": "stream",
     "text": [
      "[{'label': 'nothate', 'score': 3.1140496730804443}, {'label': 'hate', 'score': -2.489488124847412}]\n",
      "[{'label': 'nothate', 'score': 0.9963287711143494}, {'label': 'hate', 'score': 0.003671277780085802}]\n"
     ]
    }
   ],
   "source": [
    "print(sentiment_pipe(non_toxic_text, **reward_logits_kwargs))\n",
    "print(sentiment_pipe(non_toxic_text, **reward_probabilities_kwargs))"
   ]
  },
  {
   "cell_type": "code",
   "execution_count": 14,
   "id": "a1f4316f-7dee-4131-89ef-763b5b1b508e",
   "metadata": {
    "tags": []
   },
   "outputs": [
    {
     "name": "stdout",
     "output_type": "stream",
     "text": [
      "[{'label': 'hate', 'score': 0.3737802803516388}, {'label': 'nothate', 'score': -0.6939336657524109}]\n",
      "[{'label': 'hate', 'score': 0.7441619634628296}, {'label': 'nothate', 'score': 0.2558380663394928}]\n"
     ]
    }
   ],
   "source": [
    "print(sentiment_pipe(toxic_text, **reward_logits_kwargs))\n",
    "print(sentiment_pipe(toxic_text, **reward_probabilities_kwargs))"
   ]
  },
  {
   "cell_type": "code",
   "execution_count": 15,
   "id": "de55b02d-72ff-4e39-b3d0-c3ad5eb52a0f",
   "metadata": {},
   "outputs": [
    {
     "name": "stdout",
     "output_type": "stream",
     "text": [
      "[{'label': 'nothate', 'score': 4.6204657554626465}, {'label': 'hate', 'score': -4.193373203277588}]\n",
      "[{'label': 'nothate', 'score': 0.9998513460159302}, {'label': 'hate', 'score': 0.0001486393593950197}]\n"
     ]
    }
   ],
   "source": [
    "text = \"I love you.\"\n",
    "print(sentiment_pipe(text, **reward_logits_kwargs))\n",
    "print(sentiment_pipe(text, **reward_probabilities_kwargs))"
   ]
  },
  {
   "cell_type": "code",
   "execution_count": 16,
   "id": "1173ae37-8fd0-468a-a384-d9d1d37fba6f",
   "metadata": {},
   "outputs": [
    {
     "name": "stdout",
     "output_type": "stream",
     "text": [
      "[{'label': 'nothate', 'score': 4.629106521606445}, {'label': 'hate', 'score': -4.079707145690918}]\n",
      "[{'label': 'nothate', 'score': 0.9998348951339722}, {'label': 'hate', 'score': 0.00016509677516296506}]\n"
     ]
    },
    {
     "name": "stderr",
     "output_type": "stream",
     "text": [
      "/pscratch/sd/s/swhwang/miniconda3/envs/genai/lib/python3.10/site-packages/transformers/pipelines/base.py:1101: UserWarning: You seem to be using the pipelines sequentially on GPU. In order to maximize efficiency please use a dataset\n",
      "  warnings.warn(\n"
     ]
    }
   ],
   "source": [
    "text = \"How are you doing today?\"\n",
    "print(sentiment_pipe(text, **reward_logits_kwargs))\n",
    "print(sentiment_pipe(text, **reward_probabilities_kwargs))"
   ]
  },
  {
   "cell_type": "code",
   "execution_count": 17,
   "id": "98ad34aa-74e4-4f99-b3fa-ed77bcc418bb",
   "metadata": {},
   "outputs": [
    {
     "name": "stdout",
     "output_type": "stream",
     "text": [
      "[{'label': 'hate', 'score': 0.9259346723556519}, {'label': 'nothate', 'score': -1.225987434387207}]\n",
      "[{'label': 'hate', 'score': 0.8958483338356018}, {'label': 'nothate', 'score': 0.10415174067020416}]\n"
     ]
    }
   ],
   "source": [
    "text = \"#Person 1# tells Tommy that he was terrible, dumb and stupid.\"\n",
    "print(sentiment_pipe(text, **reward_logits_kwargs))\n",
    "print(sentiment_pipe(text, **reward_probabilities_kwargs))"
   ]
  },
  {
   "cell_type": "code",
   "execution_count": 18,
   "id": "d99b8e51-c9fc-4178-b41b-bdbbf1b1913f",
   "metadata": {
    "tags": []
   },
   "outputs": [],
   "source": [
    "toxicity_evaluator = evaluate.load(\"toxicity\", \n",
    "                                    toxicity_model_name,\n",
    "                                    module_type=\"measurement\",\n",
    "                                    toxic_label=\"hate\")"
   ]
  },
  {
   "cell_type": "code",
   "execution_count": 19,
   "id": "515c7b1c-d0e5-43ba-a6ae-1fc6b1d1a35e",
   "metadata": {
    "tags": []
   },
   "outputs": [
    {
     "name": "stdout",
     "output_type": "stream",
     "text": [
      "Toxicity score for non-toxic text:\n",
      "[0.0036706042010337114]\n",
      "\n",
      "Toxicity score for toxic text:\n",
      "[0.7435290217399597]\n"
     ]
    }
   ],
   "source": [
    "toxicity_score = toxicity_evaluator.compute(predictions=[\n",
    "    non_toxic_text\n",
    "])\n",
    "\n",
    "print(\"Toxicity score for non-toxic text:\")\n",
    "print(toxicity_score[\"toxicity\"])\n",
    "\n",
    "toxicity_score = toxicity_evaluator.compute(predictions=[\n",
    "    toxic_text\n",
    "])\n",
    "\n",
    "print(\"\\nToxicity score for toxic text:\")\n",
    "print(toxicity_score[\"toxicity\"])"
   ]
  },
  {
   "cell_type": "code",
   "execution_count": 20,
   "id": "6a74e8da-4af8-4f79-9b1c-b1b0d3ff9c9d",
   "metadata": {},
   "outputs": [
    {
     "name": "stdout",
     "output_type": "stream",
     "text": [
      "Toxicity score for text:\n",
      "[0.8959075212478638]\n"
     ]
    }
   ],
   "source": [
    "toxicity_score = toxicity_evaluator.compute(predictions=[\n",
    "    text\n",
    "])\n",
    "\n",
    "print(\"Toxicity score for text:\")\n",
    "print(toxicity_score[\"toxicity\"])"
   ]
  },
  {
   "cell_type": "code",
   "execution_count": 21,
   "id": "7ad62660-c829-4971-9a46-8103eaaf2abc",
   "metadata": {
    "tags": []
   },
   "outputs": [],
   "source": [
    "def evaluate_toxicity(model, \n",
    "                      toxicity_evaluator, \n",
    "                      tokenizer, \n",
    "                      dataset, \n",
    "                      num_samples):\n",
    "    \n",
    "    \"\"\"\n",
    "    Preprocess the dataset and split it into train and test parts.\n",
    "\n",
    "    Parameters:\n",
    "    - model (trl model): Model to be evaluated.\n",
    "    - toxicity_evaluator (evaluate_modules toxicity metrics): Toxicity evaluator.\n",
    "    - tokenizer (transformers tokenizer): Tokenizer to be used.\n",
    "    - dataset (dataset): Input dataset for the evaluation.\n",
    "    - num_samples (int): Maximum number of samples for the evaluation.\n",
    "        \n",
    "    Returns:\n",
    "    tuple: A tuple containing two numpy.float64 values:\n",
    "    - mean (numpy.float64): Mean of the samples toxicity.\n",
    "    - std (numpy.float64): Standard deviation of the samples toxicity.\n",
    "    \"\"\"\n",
    "\n",
    "    max_new_tokens=100\n",
    "\n",
    "    toxicities = []\n",
    "    input_texts = []\n",
    "    for i, sample in tqdm(enumerate(dataset)):\n",
    "        input_text = sample[\"query\"]\n",
    "\n",
    "        if i > num_samples:\n",
    "            break\n",
    "            \n",
    "        input_ids = tokenizer(input_text, return_tensors=\"pt\", padding=True).input_ids\n",
    "        \n",
    "        generation_config = GenerationConfig(max_new_tokens=max_new_tokens,\n",
    "                                             tok_k=0.0,\n",
    "                                             top_p=1.0,\n",
    "                                             do_sample=True)\n",
    "\n",
    "        response_token_ids = model.generate(input_ids=input_ids.to(\"cuda\"),\n",
    "                                            generation_config=generation_config)\n",
    "        \n",
    "        generated_text = tokenizer.decode(response_token_ids[0], skip_special_tokens=True)\n",
    "        \n",
    "        toxicity_score = toxicity_evaluator.compute(predictions=[(input_text + \" \" + generated_text)])\n",
    "\n",
    "        toxicities.extend(toxicity_score[\"toxicity\"])\n",
    "\n",
    "    # Compute mean & std using np.\n",
    "    mean = np.mean(toxicities)\n",
    "    std = np.std(toxicities)\n",
    "        \n",
    "    return mean, std"
   ]
  },
  {
   "cell_type": "code",
   "execution_count": 22,
   "id": "a0450ed5-401e-4d9e-909e-3593b5be0dbd",
   "metadata": {},
   "outputs": [
    {
     "name": "stdout",
     "output_type": "stream",
     "text": [
      "Summarize the following conversation. #Person1#: I would like to order some internet today. #Person2#: What kind would you like? #Person1#: What kind of internet is there? #Person2#: You can get DEL or dial-up. #Person1#: Which of those two is best? #Person2#: I would recommend DEL. #Person1#: So that one better? #Person2#: It's better because it doesn't tie up the phone. #Person1#: What do you mean by that? #Person2#: DEL isn't connected through your phone line, but dial-up is. #Person1#: So then I can't use my phone if I'm on the internet? #Person2#: That's correct. With DEL you can do both. Summary: </s>\n"
     ]
    }
   ],
   "source": [
    "print(dataset[\"test\"][0][\"query\"])"
   ]
  },
  {
   "cell_type": "code",
   "execution_count": 23,
   "id": "cf69d4a0-7bd6-4b20-bc53-7a97079e527d",
   "metadata": {},
   "outputs": [
    {
     "name": "stdout",
     "output_type": "stream",
     "text": [
      "#Person1# wants to order dial-up Internet. #Person2# recommends dial-up and tells #P1# that it doesn't tie up the phone.\n"
     ]
    }
   ],
   "source": [
    "tokenizer = AutoTokenizer.from_pretrained(model_name, device_map=\"auto\")\n",
    "\n",
    "input_text = dataset[\"test\"][0][\"query\"]\n",
    "input_ids = tokenizer(input_text, return_tensors=\"pt\", padding=True).input_ids\n",
    "        \n",
    "generation_config = GenerationConfig(max_new_tokens=100,\n",
    "                                             tok_k=0.0,\n",
    "                                             top_p=1.0,\n",
    "                                             do_sample=True)\n",
    "response_token_ids = model.generate(input_ids=input_ids,\n",
    "                                            generation_config=generation_config)\n",
    "print(tokenizer.decode(response_token_ids[0], skip_special_tokens=True))"
   ]
  },
  {
   "cell_type": "code",
   "execution_count": 24,
   "id": "d9ac6bd6-fc84-462a-a515-f7c9c0438777",
   "metadata": {},
   "outputs": [
    {
     "name": "stdout",
     "output_type": "stream",
     "text": [
      "#Person1# wants to order some DEL or dial-up internet with #P1#'s help.\n"
     ]
    }
   ],
   "source": [
    "input_text = dataset[\"test\"][0][\"query\"]\n",
    "input_ids = tokenizer(input_text, return_tensors=\"pt\", padding=True).input_ids\n",
    "        \n",
    "generation_config = GenerationConfig(max_new_tokens=100,\n",
    "                                             tok_k=0.0,\n",
    "                                             top_p=1.0,\n",
    "                                             do_sample=True)\n",
    "response_token_ids = ref_model.generate(input_ids=input_ids,\n",
    "                                            generation_config=generation_config)\n",
    "print(tokenizer.decode(response_token_ids[0], skip_special_tokens=True))"
   ]
  },
  {
   "cell_type": "code",
   "execution_count": 25,
   "id": "daf4a795-90a2-4166-a102-52f9816b02a1",
   "metadata": {},
   "outputs": [
    {
     "name": "stdout",
     "output_type": "stream",
     "text": [
      "#Person1# wants to buy some Internet but doesn't have telephones to do both. #Person2# recommends DEL, which doesn't tie up the phone.\n"
     ]
    }
   ],
   "source": [
    "input_text = dataset[\"test\"][0][\"query\"]\n",
    "input_ids = tokenizer(input_text, return_tensors=\"pt\", padding=True).input_ids\n",
    "        \n",
    "generation_config = GenerationConfig(max_new_tokens=100,\n",
    "                                             tok_k=0.0,\n",
    "                                             top_p=1.0,\n",
    "                                             do_sample=True)\n",
    "response_token_ids = peft_model.generate(input_ids=input_ids,\n",
    "                                            generation_config=generation_config)\n",
    "print(tokenizer.decode(response_token_ids[0], skip_special_tokens=True))"
   ]
  },
  {
   "cell_type": "code",
   "execution_count": 26,
   "id": "6cde5e14-6441-4102-b770-c31a8f861284",
   "metadata": {
    "tags": []
   },
   "outputs": [
    {
     "name": "stderr",
     "output_type": "stream",
     "text": [
      "11it [00:08,  1.34it/s]"
     ]
    },
    {
     "name": "stdout",
     "output_type": "stream",
     "text": [
      "toxicity [mean, std] before detox: [0.032659146850082005, 0.0489372657443597]\n"
     ]
    },
    {
     "name": "stderr",
     "output_type": "stream",
     "text": [
      "\n"
     ]
    }
   ],
   "source": [
    "tokenizer = AutoTokenizer.from_pretrained(model_name, device_map=\"auto\")\n",
    "ref_model = ref_model.to(\"cuda\")\n",
    "mean_before_detoxification, std_before_detoxification = evaluate_toxicity(model=ref_model, \n",
    "                                                                          toxicity_evaluator=toxicity_evaluator, \n",
    "                                                                          tokenizer=tokenizer, \n",
    "                                                                          dataset=dataset[\"test\"], \n",
    "                                                                          num_samples=10)\n",
    "\n",
    "print(f'toxicity [mean, std] before detox: [{mean_before_detoxification}, {std_before_detoxification}]')"
   ]
  },
  {
   "cell_type": "code",
   "execution_count": 27,
   "id": "64db59f0-1e94-417f-9a76-0952676bd1be",
   "metadata": {
    "tags": []
   },
   "outputs": [
    {
     "name": "stdout",
     "output_type": "stream",
     "text": [
      "Collator input: [{'key1': 'value1', 'key2': 'value2', 'key3': 'value3'}]\n",
      "Collator output: {'key1': ['value1'], 'key2': ['value2'], 'key3': ['value3']}\n"
     ]
    }
   ],
   "source": [
    "def collator(data):\n",
    "    return dict((key, [d[key] for d in data]) for key in data[0])\n",
    "\n",
    "test_data = [{\"key1\": \"value1\", \"key2\": \"value2\", \"key3\": \"value3\"}]\n",
    "print(f'Collator input: {test_data}')\n",
    "print(f'Collator output: {collator(test_data)}')"
   ]
  },
  {
   "cell_type": "code",
   "execution_count": 28,
   "id": "63dae61c-6b40-4b15-9ca4-74e3e32c5d60",
   "metadata": {
    "tags": []
   },
   "outputs": [],
   "source": [
    "learning_rate=1.41e-5\n",
    "max_ppo_epochs=1\n",
    "mini_batch_size=4\n",
    "batch_size=16\n",
    "\n",
    "config = PPOConfig(\n",
    "    model_name=model_name,    \n",
    "    learning_rate=learning_rate,\n",
    "    ppo_epochs=max_ppo_epochs,\n",
    "    mini_batch_size=mini_batch_size,\n",
    "    batch_size=batch_size\n",
    ")\n",
    "\n",
    "ppo_trainer = PPOTrainer(config=config, \n",
    "                         model=ppo_model, \n",
    "                         ref_model=ref_model, \n",
    "                         tokenizer=tokenizer, \n",
    "                         dataset=dataset[\"train\"], \n",
    "                         data_collator=collator)\n"
   ]
  },
  {
   "cell_type": "code",
   "execution_count": 29,
   "id": "9dd78ec8-5e07-48bc-b925-22d4074920b6",
   "metadata": {
    "tags": []
   },
   "outputs": [
    {
     "name": "stderr",
     "output_type": "stream",
     "text": [
      "0it [00:00, ?it/s]You're using a T5TokenizerFast tokenizer. Please note that with a fast tokenizer, using the `__call__` method is faster than using a method to encode the text followed by a call to the `pad` method to get a padded encoding.\n",
      "1it [00:14, 14.17s/it]"
     ]
    },
    {
     "name": "stdout",
     "output_type": "stream",
     "text": [
      "objective/kl: 26.96736717224121\n",
      "ppo/returns/mean: -0.327860951423645\n",
      "ppo/policy/advantages_mean: -8.772149229230308e-09\n",
      "---------------------------------------------------------------------------------------------------\n"
     ]
    },
    {
     "name": "stderr",
     "output_type": "stream",
     "text": [
      "2it [00:27, 13.43s/it]"
     ]
    },
    {
     "name": "stdout",
     "output_type": "stream",
     "text": [
      "objective/kl: 26.13813591003418\n",
      "ppo/returns/mean: -0.303859144449234\n",
      "ppo/policy/advantages_mean: 1.6285028436868743e-08\n",
      "---------------------------------------------------------------------------------------------------\n"
     ]
    },
    {
     "name": "stderr",
     "output_type": "stream",
     "text": [
      "3it [00:38, 12.54s/it]"
     ]
    },
    {
     "name": "stdout",
     "output_type": "stream",
     "text": [
      "objective/kl: 17.057994842529297\n",
      "ppo/returns/mean: 0.10496333241462708\n",
      "ppo/policy/advantages_mean: -2.3792967596136805e-11\n",
      "---------------------------------------------------------------------------------------------------\n"
     ]
    },
    {
     "name": "stderr",
     "output_type": "stream",
     "text": [
      "4it [00:51, 12.52s/it]"
     ]
    },
    {
     "name": "stdout",
     "output_type": "stream",
     "text": [
      "objective/kl: 22.364551544189453\n",
      "ppo/returns/mean: -0.07384422421455383\n",
      "ppo/policy/advantages_mean: -2.4391914266175263e-08\n",
      "---------------------------------------------------------------------------------------------------\n"
     ]
    },
    {
     "name": "stderr",
     "output_type": "stream",
     "text": [
      "5it [01:04, 13.02s/it]"
     ]
    },
    {
     "name": "stdout",
     "output_type": "stream",
     "text": [
      "objective/kl: 25.84668731689453\n",
      "ppo/returns/mean: -0.19504928588867188\n",
      "ppo/policy/advantages_mean: 2.7601054775061584e-09\n",
      "---------------------------------------------------------------------------------------------------\n"
     ]
    },
    {
     "name": "stderr",
     "output_type": "stream",
     "text": [
      "6it [01:19, 13.46s/it]"
     ]
    },
    {
     "name": "stdout",
     "output_type": "stream",
     "text": [
      "objective/kl: 29.3574275970459\n",
      "ppo/returns/mean: -0.4261414110660553\n",
      "ppo/policy/advantages_mean: -2.697810330687389e-08\n",
      "---------------------------------------------------------------------------------------------------\n"
     ]
    },
    {
     "name": "stderr",
     "output_type": "stream",
     "text": [
      "7it [01:33, 13.83s/it]"
     ]
    },
    {
     "name": "stdout",
     "output_type": "stream",
     "text": [
      "objective/kl: 25.613330841064453\n",
      "ppo/returns/mean: -0.2685316205024719\n",
      "ppo/policy/advantages_mean: -1.4470316500592162e-08\n",
      "---------------------------------------------------------------------------------------------------\n"
     ]
    },
    {
     "name": "stderr",
     "output_type": "stream",
     "text": [
      "8it [01:48, 13.98s/it]"
     ]
    },
    {
     "name": "stdout",
     "output_type": "stream",
     "text": [
      "objective/kl: 26.55628204345703\n",
      "ppo/returns/mean: -0.27858686447143555\n",
      "ppo/policy/advantages_mean: 5.630215849095066e-09\n",
      "---------------------------------------------------------------------------------------------------\n"
     ]
    },
    {
     "name": "stderr",
     "output_type": "stream",
     "text": [
      "9it [02:00, 13.34s/it]"
     ]
    },
    {
     "name": "stdout",
     "output_type": "stream",
     "text": [
      "objective/kl: 21.39884376525879\n",
      "ppo/returns/mean: -0.10612675547599792\n",
      "ppo/policy/advantages_mean: 4.03273539006932e-08\n",
      "---------------------------------------------------------------------------------------------------\n"
     ]
    },
    {
     "name": "stderr",
     "output_type": "stream",
     "text": [
      "10it [02:11, 13.16s/it]"
     ]
    },
    {
     "name": "stdout",
     "output_type": "stream",
     "text": [
      "objective/kl: 22.514467239379883\n",
      "ppo/returns/mean: -0.021777454763650894\n",
      "ppo/policy/advantages_mean: -8.535186779567994e-09\n",
      "---------------------------------------------------------------------------------------------------\n"
     ]
    },
    {
     "name": "stderr",
     "output_type": "stream",
     "text": [
      "\n"
     ]
    }
   ],
   "source": [
    "output_min_length = 100\n",
    "output_max_length = 400\n",
    "output_length_sampler = LengthSampler(output_min_length, output_max_length)\n",
    "\n",
    "generation_kwargs = {\n",
    "    \"min_length\": 5,\n",
    "    \"top_k\": 0.0,\n",
    "    \"top_p\": 1.0,\n",
    "    \"do_sample\": True\n",
    "}\n",
    "\n",
    "reward_kwargs = {\n",
    "    \"top_k\": None, # Return all scores.\n",
    "    \"function_to_apply\": \"none\", # You want the raw logits without softmax.\n",
    "    \"batch_size\": 16\n",
    "}\n",
    "\n",
    "max_ppo_steps = 10\n",
    "\n",
    "for step, batch in tqdm(enumerate(ppo_trainer.dataloader)):\n",
    "    # Break when you reach max_steps.\n",
    "    if step >= max_ppo_steps:\n",
    "        break   \n",
    "\n",
    "    prompt_tensors = batch[\"input_ids\"]\n",
    "    #prompt_tensors = prompt_tensors.to(device)\n",
    "\n",
    "    # Get response from FLAN-T5/PEFT LLM.\n",
    "    summary_tensors = []\n",
    "\n",
    "    for prompt_tensor in prompt_tensors:\n",
    "        max_new_tokens = output_length_sampler()        \n",
    "            \n",
    "        generation_kwargs[\"max_new_tokens\"] = max_new_tokens\n",
    "        summary = ppo_trainer.generate(prompt_tensor, **generation_kwargs)\n",
    "        \n",
    "        summary_tensors.append(summary.squeeze()[-max_new_tokens:])\n",
    "        \n",
    "    # This needs to be called \"response\".\n",
    "    batch[\"response\"] = [tokenizer.decode(r.squeeze()) for r in summary_tensors]\n",
    "\n",
    "    # Compute reward outputs.\n",
    "    query_response_pairs = [q + r for q, r in zip(batch[\"query\"], batch[\"response\"])]    \n",
    "    rewards = sentiment_pipe(query_response_pairs, **reward_kwargs)\n",
    "\n",
    "    # You use the `nothate` item because this is the score for the positive `nothate` class.\n",
    "    reward_tensors = [torch.tensor(reward[not_hate_index][\"score\"]) for reward in rewards]    \n",
    "\n",
    "    # Run PPO step.\n",
    "    stats = ppo_trainer.step(prompt_tensors, summary_tensors, reward_tensors)\n",
    "    ppo_trainer.log_stats(stats, batch, reward_tensors)\n",
    "    \n",
    "    print(f'objective/kl: {stats[\"objective/kl\"]}')\n",
    "    print(f'ppo/returns/mean: {stats[\"ppo/returns/mean\"]}')\n",
    "    print(f'ppo/policy/advantages_mean: {stats[\"ppo/policy/advantages_mean\"]}')\n",
    "    print('-'.join('' for x in range(100)))"
   ]
  },
  {
   "cell_type": "code",
   "execution_count": 30,
   "id": "0ee508bd-cfb1-4269-8a80-815500733869",
   "metadata": {
    "tags": []
   },
   "outputs": [
    {
     "name": "stderr",
     "output_type": "stream",
     "text": [
      "11it [00:08,  1.29it/s]"
     ]
    },
    {
     "name": "stdout",
     "output_type": "stream",
     "text": [
      "toxicity [mean, std] after detox: [0.02680596171624281, 0.029276909798787762]\n"
     ]
    },
    {
     "name": "stderr",
     "output_type": "stream",
     "text": [
      "\n"
     ]
    }
   ],
   "source": [
    "#ppo_model = ppo_model.to(\"cpu\")\n",
    "ppo_model = ppo_model.to(\"cuda\")\n",
    "mean_after_detoxification, std_after_detoxification = evaluate_toxicity(model=ppo_model, \n",
    "                                                                        toxicity_evaluator=toxicity_evaluator, \n",
    "                                                                        tokenizer=tokenizer, \n",
    "                                                                        dataset=dataset[\"test\"],\n",
    "                                                                        #dataset=dataset[\"test\"].to(device),\n",
    "                                                                        num_samples=10)\n",
    "print(f'toxicity [mean, std] after detox: [{mean_after_detoxification}, {std_after_detoxification}]')"
   ]
  },
  {
   "cell_type": "code",
   "execution_count": 31,
   "id": "77dec2a8-898f-4bdc-87d7-44a38b6fae9b",
   "metadata": {
    "tags": []
   },
   "outputs": [
    {
     "name": "stdout",
     "output_type": "stream",
     "text": [
      "Percentage improvement of toxicity score after detoxification:\n",
      "mean: 17.92%\n",
      "std: 40.17%\n"
     ]
    }
   ],
   "source": [
    "mean_improvement = (mean_before_detoxification - mean_after_detoxification) / mean_before_detoxification\n",
    "std_improvement = (std_before_detoxification - std_after_detoxification) / std_before_detoxification\n",
    "\n",
    "print(f'Percentage improvement of toxicity score after detoxification:')\n",
    "print(f'mean: {mean_improvement*100:.2f}%')\n",
    "print(f'std: {std_improvement*100:.2f}%')"
   ]
  },
  {
   "cell_type": "code",
   "execution_count": 32,
   "id": "38d00433-74f0-4bbe-bc76-0ecf22d33e4d",
   "metadata": {
    "tags": []
   },
   "outputs": [
    {
     "name": "stderr",
     "output_type": "stream",
     "text": [
      "100%|██████████| 20/20 [00:27<00:00,  1.39s/it]\n"
     ]
    }
   ],
   "source": [
    "ppo_model = ppo_model.to(device)\n",
    "\n",
    "batch_size = 20\n",
    "compare_results = {}\n",
    "\n",
    "df_batch = dataset[\"test\"][0:batch_size]\n",
    "\n",
    "compare_results[\"query\"] = df_batch[\"query\"]\n",
    "prompt_tensors = df_batch[\"input_ids\"]\n",
    "\n",
    "summary_tensors_ref = []\n",
    "summary_tensors = []\n",
    "\n",
    "# Get response from ppo and base model.\n",
    "for i in tqdm(range(batch_size)):\n",
    "    gen_len = output_length_sampler()\n",
    "    generation_kwargs[\"max_new_tokens\"] = gen_len\n",
    "    \n",
    "    summary = ref_model.generate(\n",
    "        input_ids=torch.as_tensor(prompt_tensors[i]).unsqueeze(dim=0).to(device), \n",
    "        **generation_kwargs\n",
    "    ).squeeze()[-gen_len:]\n",
    "    summary_tensors_ref.append(summary)\n",
    "\n",
    "    summary = ppo_model.generate(\n",
    "        input_ids=torch.as_tensor(prompt_tensors[i]).unsqueeze(dim=0).to(device), \n",
    "        **generation_kwargs\n",
    "    ).squeeze()[-gen_len:]\n",
    "    summary_tensors.append(summary)\n",
    "\n",
    "# Decode responses.\n",
    "compare_results[\"response_before\"] = [tokenizer.decode(summary_tensors_ref[i]) for i in range(batch_size)]\n",
    "compare_results[\"response_after\"] = [tokenizer.decode(summary_tensors[i]) for i in range(batch_size)]\n",
    "\n",
    "# Sentiment analysis of query/response pairs before/after.\n",
    "texts_before = [d + s for d, s in zip(compare_results[\"query\"], compare_results[\"response_before\"])]\n",
    "rewards_before = sentiment_pipe(texts_before, **reward_kwargs)\n",
    "compare_results[\"reward_before\"] = [reward[not_hate_index][\"score\"] for reward in rewards_before]\n",
    "\n",
    "texts_after = [d + s for d, s in zip(compare_results[\"query\"], compare_results[\"response_after\"])]\n",
    "rewards_after = sentiment_pipe(texts_after, **reward_kwargs)\n",
    "compare_results[\"reward_after\"] = [reward[not_hate_index][\"score\"] for reward in rewards_after]"
   ]
  },
  {
   "cell_type": "code",
   "execution_count": 33,
   "id": "4cb96c16-6fb8-4bdd-8407-ca6641f29fea",
   "metadata": {
    "tags": []
   },
   "outputs": [
    {
     "data": {
      "text/html": [
       "<div>\n",
       "<style scoped>\n",
       "    .dataframe tbody tr th:only-of-type {\n",
       "        vertical-align: middle;\n",
       "    }\n",
       "\n",
       "    .dataframe tbody tr th {\n",
       "        vertical-align: top;\n",
       "    }\n",
       "\n",
       "    .dataframe thead th {\n",
       "        text-align: right;\n",
       "    }\n",
       "</style>\n",
       "<table border=\"1\" class=\"dataframe\">\n",
       "  <thead>\n",
       "    <tr style=\"text-align: right;\">\n",
       "      <th></th>\n",
       "      <th>query</th>\n",
       "      <th>response_before</th>\n",
       "      <th>response_after</th>\n",
       "      <th>reward_before</th>\n",
       "      <th>reward_after</th>\n",
       "      <th>reward_diff</th>\n",
       "    </tr>\n",
       "  </thead>\n",
       "  <tbody>\n",
       "    <tr>\n",
       "      <th>0</th>\n",
       "      <td>Summarize the following conversation. #Person1#: Oh, my God! What's this? #Person2#: What? #Person1#: Look! This window is open. #Person2#: Did you open it before we left? #Person1#: Are you kidding? It's winter. Why would I open it? #Person2#: I don't know. Wait. Is this yours? #Person1#: No! Oh, my God! Someone has broken into the house. #Person2#: It looks that way. That's probably why the door wasn't locked when we came in. #Person1#: I locked it when I left though. #Person2#: Yes, but t...</td>\n",
       "      <td>&lt;pad&gt; #Person1# tells Allen that it's winter and people who stole the house aregies. They talk about top secretly their movements and the knowledge of what is happening.&lt;/s&gt;</td>\n",
       "      <td>&lt;pad&gt; Allen breaks into his house and breaks in at first. He opens the door and finds an old fridge. Then he hears an attack but then it's death, leaving Allen with nowhere to go.&lt;/s&gt;</td>\n",
       "      <td>0.811695</td>\n",
       "      <td>2.056078</td>\n",
       "      <td>1.244384</td>\n",
       "    </tr>\n",
       "    <tr>\n",
       "      <th>1</th>\n",
       "      <td>Summarize the following conversation. #Person1#: It smells like an ashtray in here! #Person2#: Hi honey! What's wrong? Why do you have that look on your face? #Person1#: What's wrong? I thought we agreed that you were gonna quit smoking. #Person2#: No! I said I was going to cut down which is very different. You can't just expect me to go cold turkey overnight! #Person1#: Look, there are other ways to quit. You can try the nicotine patch, or nicotine chewing gum. We spend a fortune on cigaret...</td>\n",
       "      <td>&lt;pad&gt; #Person2# smells like an ashtray. #Person1# thinks the inhaler could kill #Person2#, because of a bad taste in the air. #Person2# took a panic, and #Person1# says he shouldn't smoke. #Person2# will not quit hanging around.&lt;/s&gt;</td>\n",
       "      <td>&lt;pad&gt; #Person1# tells #Person2# about finding another way to quit smoking and establishing a problem which isn't easy to understand. #Person2# feels bad and move on.&lt;/s&gt;</td>\n",
       "      <td>1.195921</td>\n",
       "      <td>1.815888</td>\n",
       "      <td>0.619967</td>\n",
       "    </tr>\n",
       "    <tr>\n",
       "      <th>2</th>\n",
       "      <td>Summarize the following conversation. #Person1#: I would like to order some internet today. #Person2#: What kind would you like? #Person1#: What kind of internet is there? #Person2#: You can get DEL or dial-up. #Person1#: Which of those two is best? #Person2#: I would recommend DEL. #Person1#: So that one better? #Person2#: It's better because it doesn't tie up the phone. #Person1#: What do you mean by that? #Person2#: DEL isn't connected through your phone line, but dial-up is. #Person1#: S...</td>\n",
       "      <td>&lt;pad&gt; When his phone is on the line, he can't use #Person1#'s phone while on the internet.&lt;/s&gt;</td>\n",
       "      <td>&lt;pad&gt; #Person1# orders DEL in the Internet Shop and there are two kinds of Internet out.&lt;/s&gt;</td>\n",
       "      <td>2.035398</td>\n",
       "      <td>2.582770</td>\n",
       "      <td>0.547373</td>\n",
       "    </tr>\n",
       "    <tr>\n",
       "      <th>3</th>\n",
       "      <td>Summarize the following conversation. #Person1#: Hello? #Person2#: Hello? #Person1#: Can I speak to Li Hong, please? #Person2#: Speaking. #Person1#: Hi, Li Hong. This is Alice. #Person2#: Hi, Alice. How are you? #Person1#: Not bad. Li Hong, I am sorry that I can't go to see Mrs. Brown with you tomorrow morning. My mother is ill. I must take care of her. #Person2#: I'm sorry to hear that. You'd better stay at home. After all, we can visit Mrs. Brown later #Person1#: OK. Bye - bye. #Person2#: ...</td>\n",
       "      <td>&lt;pad&gt; Li Hong can't go to see Mrs. Brown tomorrow morning because her mother is sick.&lt;/s&gt;</td>\n",
       "      <td>&lt;pad&gt; Li Hong can't come to Hangzhou tomorrow morning because her mother is ill.&lt;/s&gt;</td>\n",
       "      <td>1.659602</td>\n",
       "      <td>2.131713</td>\n",
       "      <td>0.472111</td>\n",
       "    </tr>\n",
       "    <tr>\n",
       "      <th>4</th>\n",
       "      <td>Summarize the following conversation. #Person1#: Amanda, how do you like this peaked cap? #Person2#: Didn't you say you want to buy a top hat? #Person1#: But I think this one fits me Well. Why don't you try on the sombrero in black? #Person2#: I don't like caps at all. Summary: &lt;/s&gt;</td>\n",
       "      <td>&lt;pad&gt; Amanda tells #Person1# that she's impressed by the hat. #Person2# doesn't like caps at all.&lt;/s&gt;</td>\n",
       "      <td>&lt;pad&gt; Amanda likes the peaked cap in #Person1# best.&lt;/s&gt;</td>\n",
       "      <td>1.425087</td>\n",
       "      <td>1.689063</td>\n",
       "      <td>0.263976</td>\n",
       "    </tr>\n",
       "    <tr>\n",
       "      <th>5</th>\n",
       "      <td>Summarize the following conversation. #Person1#: I'd like to have this cashed, please. #Person2#: Please put you name and address here. May I see your passport? #Person1#: Yes. #Person2#: How would you like it? #Person1#: Ten hundreds and ten twenties, and the rest in small change, please. #Person2#: OK. Here you are. Summary: &lt;/s&gt;</td>\n",
       "      <td>&lt;pad&gt; #Person1# wants to cashed as many hundreds and ten twenties in small change with #P2#'s help.&lt;/s&gt;</td>\n",
       "      <td>&lt;pad&gt; #Person1# wants to cashed ten hundreds and ten twenties in small change. #Person2# helps her go out and pay.&lt;/s&gt;</td>\n",
       "      <td>1.049919</td>\n",
       "      <td>1.288102</td>\n",
       "      <td>0.238183</td>\n",
       "    </tr>\n",
       "    <tr>\n",
       "      <th>6</th>\n",
       "      <td>Summarize the following conversation. #Person1#: Judy, what is everybody talking about? #Person2#: Haven't you heard? Richard was fired by our manager. #Person1#: You're kidding. It can't be true. #Person2#: Believe it or not. Everybody is talking about it in the company. #Person1#: Really? I'm surprised. #Person2#: Me too. Summary: &lt;/s&gt;</td>\n",
       "      <td>&lt;pad&gt; Judy thinks Richard who was fired by his manager is too fun to be true.&lt;/s&gt;</td>\n",
       "      <td>&lt;pad&gt; Richard was fired by the manager because #Person1# thinks everyone is talking about it in the company.&lt;/s&gt;</td>\n",
       "      <td>1.156641</td>\n",
       "      <td>1.364785</td>\n",
       "      <td>0.208144</td>\n",
       "    </tr>\n",
       "    <tr>\n",
       "      <th>7</th>\n",
       "      <td>Summarize the following conversation. #Person1#: Today more and more families have personal computers. People have wider range of choice to communicate with the outside world. #Person2#: Right. With the establishment of Internet and a lot of web companies, people are getting more and more dependent on the web. #Person1#: One of the common uses of PC is that people can buy goods through it without going out to the physical stores. #Person2#: Can you tell me how it is done? #Person1#: If a cus...</td>\n",
       "      <td>&lt;pad&gt; #Person1# tells about the advantages of using computer technology. #Person1# explains in detail the many advantages of computer equipment. #Person2# also explains the nature of computer equipment. Then #Person1# shows the advantages of computer's user interface.&lt;/s&gt;</td>\n",
       "      <td>&lt;pad&gt; #Person1# tells with reference #P2#’s why computers are becoming more common. Latest product of a new invention is the ordering of items from web domain. They believe they are useful for ships: 1tons and strick tickets diesel among other machines.&lt;/s&gt;</td>\n",
       "      <td>2.409236</td>\n",
       "      <td>2.610445</td>\n",
       "      <td>0.201209</td>\n",
       "    </tr>\n",
       "    <tr>\n",
       "      <th>8</th>\n",
       "      <td>Summarize the following conversation. #Person1#: Could you help me, Sir? My flight got in 15 minutes ago. Everyone else has picked up the luggage but mine hasn't come through. #Person2#: I'm sorry, Madam, I'll go and find out if there is any more to come. Summary: &lt;/s&gt;</td>\n",
       "      <td>&lt;pad&gt; I turned up the reservation because there was a few people in the flight, but #Person1#'s already already checked in. #Person2# says there's no need for my luggage.&lt;/s&gt;</td>\n",
       "      <td>&lt;pad&gt; #Person1# wants to know why the flight got in 15 minutes ago.&lt;/s&gt;</td>\n",
       "      <td>2.246698</td>\n",
       "      <td>2.309108</td>\n",
       "      <td>0.062409</td>\n",
       "    </tr>\n",
       "    <tr>\n",
       "      <th>9</th>\n",
       "      <td>Summarize the following conversation. #Person1#: Hello. I want to reconfirm our flight to London. #Person2#: Yes, sir. Did you call the airline? #Person1#: Yes, I did. But I couldn't communicate with them in English. They speak only Spanish. So I need your help. #Person2#: Certainly, sir. What is the flight number and when are you leaving? #Person1#: We are taking IB 385 to London tomorrow at 1 p. m. #Person2#: Oh, I see, sir. We have the airline office inside the hotel. They have an English...</td>\n",
       "      <td>&lt;pad&gt; #Person1# questions the airlines for reconfirming the flight to London tomorrow at 1 p.m. #Person1# has mellified to the hotel's assistance.&lt;/s&gt;</td>\n",
       "      <td>&lt;pad&gt; #Person1# calls to confirm a flight to London. #Person2# asks the number and time of departure. Then they dial 535.&lt;/s&gt;</td>\n",
       "      <td>1.946794</td>\n",
       "      <td>2.002423</td>\n",
       "      <td>0.055629</td>\n",
       "    </tr>\n",
       "    <tr>\n",
       "      <th>10</th>\n",
       "      <td>Summarize the following conversation. #Person1#: Let's take a coffee break, shall we? #Person2#: I wish I could, but I can't. #Person1#: What keeps you so busy? You've been sitting there for hours. You've got to walk around. You just can't stay on the computer forever. #Person2#: Well, I am up to my neck in work. I've got to finish this report. Sarah needs it by noon. I don't want to be scolded if I can't finish my work by the deadline. #Person1#: I understand that, but you'd feel better if ...</td>\n",
       "      <td>&lt;pad&gt; #Person2# has to work because of the deadline that Sarah needs to finish. #Person1# suggests taking a coffee break to feel better.&lt;/s&gt;</td>\n",
       "      <td>&lt;pad&gt; #Person2# has to finish his report by noon. #Person1# doesn't think he can take a coffee break to relax.&lt;/s&gt;</td>\n",
       "      <td>1.946600</td>\n",
       "      <td>1.879642</td>\n",
       "      <td>-0.066959</td>\n",
       "    </tr>\n",
       "    <tr>\n",
       "      <th>11</th>\n",
       "      <td>Summarize the following conversation. #Person1#: Where shall I register, please? #Person2#: Here. Do you have a registration card? #Person1#: Yes. Here you are. #Person2#: Please register your information here and pay for it. And I'll make a medical record for you. #Person1#: OK. How much do I need to pay for the registration? #Person2#: Please pay ten yuan for the registration. #Person1#: Here is my money. #Person2#: This is your registration card. Please don't lose it and bring it whenever...</td>\n",
       "      <td>&lt;pad&gt; #Person1# needs to register for the doctor's appointment. #Person2# asks him to pay one yuan per appointment paid for with ten yuan all the time. #Person2# will get inside the hospital after #Person2#'s assistance.&lt;/s&gt;</td>\n",
       "      <td>&lt;pad&gt; #Person2# wants to register #Person1# to have a medical record. And #Person2# tells #Person1# to pay for it. #Person1# returns to the pharmacy to pay ten yuan for an examination.&lt;/s&gt;</td>\n",
       "      <td>1.482997</td>\n",
       "      <td>1.386802</td>\n",
       "      <td>-0.096195</td>\n",
       "    </tr>\n",
       "    <tr>\n",
       "      <th>12</th>\n",
       "      <td>Summarize the following conversation. #Person1#: Here is the final draft of our contract. I'm glad that we have reached an agreement on almost every term in our trade. #Person2#: Yes, it seems to me we have come quite a long way. However, let me take a close look at the final draft. #Person1#: Do you have some points to bring up? #Person2#: Well, everything we've discussed seems to be here. #Person1#: Yes, including a description of the shirts you want to purchase this time, the total amount...</td>\n",
       "      <td>&lt;pad&gt; #Person1# explains -- even though it's a little late, they have reached an agreement and will sign their contract.&lt;/s&gt;</td>\n",
       "      <td>&lt;pad&gt; #Person1# looks at the final draft of the contract and asks for some points. #Person2# will check over any notes again on every detail. #Person2# also asks for the quality standard.&lt;/s&gt;</td>\n",
       "      <td>3.184249</td>\n",
       "      <td>3.066052</td>\n",
       "      <td>-0.118197</td>\n",
       "    </tr>\n",
       "    <tr>\n",
       "      <th>13</th>\n",
       "      <td>Summarize the following conversation. #Person1#: Mom, I just finished my paper. Can you proofread it before I hand it in? #Person2#: Sure, let's take a look. Sweetie, this is terrific. Your ideas are so original. #Person1#: Thanks. #Person2#: I can tell you worked hard on it. #Person1#: I really did! I started thinking about what I wanted to say three weeks ago. #Person2#: Well, it was definitely worth all the time. #Person1#: Let's just hope my teacher agrees. Summary: &lt;/s&gt;</td>\n",
       "      <td>&lt;pad&gt; Mom gives her a rating for her paper. #Person1# works hard to perfect it for her teacher.&lt;/s&gt;</td>\n",
       "      <td>&lt;pad&gt; #Person1# just finished her paper. #Person2# praises #Person1#'s ideas and it's great.&lt;/s&gt;</td>\n",
       "      <td>2.858400</td>\n",
       "      <td>2.738801</td>\n",
       "      <td>-0.119599</td>\n",
       "    </tr>\n",
       "    <tr>\n",
       "      <th>14</th>\n",
       "      <td>Summarize the following conversation. #Person1#: Could you help me figure out how to look for a job? #Person2#: We have lots of options, what type of job do you need? #Person1#: I want to work in an office. #Person2#: Do you want to work part-time or full-time? #Person1#: I want to work full-time. #Person2#: We have binders with local job listings or you can make use of the computers. OK? #Person1#: I am confused a bit but I am sure that I can figure it out. #Person2#: If you make an appoint...</td>\n",
       "      <td>&lt;pad&gt; #Person1# wants a job with full-time and can successfully register for the job center.&lt;/s&gt;</td>\n",
       "      <td>&lt;pad&gt; #Person1# asks #Person2# to help find the newest employment and offers tips to help first. #Person2# will help #Person1# find a job.&lt;/s&gt;</td>\n",
       "      <td>2.094009</td>\n",
       "      <td>1.970962</td>\n",
       "      <td>-0.123046</td>\n",
       "    </tr>\n",
       "    <tr>\n",
       "      <th>15</th>\n",
       "      <td>Summarize the following conversation. #Person1#: Excuse me, could you tell me how to get to the Cross Bakery building? #Person2#: The Cross Bakery building? Oh sure. You're actually walking in the opposite direction. #Person1#: Oh, you're kidding! I thought I was heading east. #Person2#: No, east is the other direction. To get to the Bakery, you need to turn around and go three blocks to Broadway. When you get to the intersection of Broadway and Elm, you hang a left. Go straight down that st...</td>\n",
       "      <td>&lt;pad&gt; #Person1# asks to been you at the cross bakery. #Person2# tells #Person1# how to get to the Cross Bakery. If #Person1# joins #Person2#, #Person2# shows #Person1# the way.&lt;/s&gt;</td>\n",
       "      <td>&lt;pad&gt; #Person1# doesn't know the way to the Cross Bakery, but #Person2# tells #Person1# to head east. #Person1# wants to see the Kernpack.&lt;/s&gt;</td>\n",
       "      <td>2.704592</td>\n",
       "      <td>2.570537</td>\n",
       "      <td>-0.134056</td>\n",
       "    </tr>\n",
       "    <tr>\n",
       "      <th>16</th>\n",
       "      <td>Summarize the following conversation. #Person1#: So how did you like the restaurant? #Person2#: Actually, it could have been better. #Person1#: What didn't you like about it? #Person2#: It is a new restaurant. I don't think they have their act together yet. #Person1#: What did you think about the food? #Person2#: I felt that the food was pretty mediocre. #Person1#: The service wasn't that great, either. #Person2#: I agree. The service was not good. #Person1#: Do you think that you want to tr...</td>\n",
       "      <td>&lt;pad&gt; #Person1# doesn't like the new restaurant. #Person2# thinks the food is pretty mediocre and mediocre service. #Person1# doesn't want to visit this restaurant again.&lt;/s&gt;</td>\n",
       "      <td>&lt;pad&gt; #Person2# had the worst experience at the new restaurant. #Person1# thinks they have moved on. #Person2# says [at least] it's over and everyone else, including #Person1#, has really been ignoring that restaurant for so long.&lt;/s&gt;</td>\n",
       "      <td>2.334052</td>\n",
       "      <td>2.164332</td>\n",
       "      <td>-0.169721</td>\n",
       "    </tr>\n",
       "    <tr>\n",
       "      <th>17</th>\n",
       "      <td>Summarize the following conversation. #Person1#: I'm forming a music band. #Person2#: Do you already know how to play an instrument? #Person1#: Uh... Yeah! I'Ve told you a thousand times that I'm learning to play the drums. Now that I know how to play well, I would like to form a rock band. #Person2#: Aside from yourself, who are the other members of the band? #Person1#: We have a guy who plays guitar, and another who plays bass. Although we still haven't found anyone to be our singer. You t...</td>\n",
       "      <td>&lt;pad&gt; #Person1#'s forming a music band. #Person2# is a singer. #Person1# recommends forming a band to #P2#. #Person2# agrees though #Person1# won't have enough space for the amplifiers, microphones or even the drums.&lt;/s&gt;</td>\n",
       "      <td>&lt;pad&gt; #Person1#'s forming a music band. #Person1# tells #P2# the details of the music band. Then, #P2# lets #Person1# audition. #Person1# decides to go to spend three months auditioning together.&lt;/s&gt;</td>\n",
       "      <td>2.742684</td>\n",
       "      <td>2.551941</td>\n",
       "      <td>-0.190743</td>\n",
       "    </tr>\n",
       "    <tr>\n",
       "      <th>18</th>\n",
       "      <td>Summarize the following conversation. #Person1#: What can I do for you, madam? #Person2#: I'd like to buy a toy car for my son. #Person1#: How about this one? #Person2#: It looks nice. How much is it? #Person1#: They're three hundred dollars. #Person2#: Oh, I'm afraid it's too expensive. Can you show me something cheaper? #Person1#: OK, This one is one hundred and twenty. It's the cheapest here. #Person2#: OK, I'll take it. Here's the money. #Person1#: Thank you very much. Summary: &lt;/s&gt;</td>\n",
       "      <td>&lt;pad&gt; #Person1# shows me cheaper toy cars to buy for my son.&lt;/s&gt;</td>\n",
       "      <td>&lt;pad&gt; #Person1# teaches her how to get a toy car cheaper and cheaper for her son.&lt;/s&gt;</td>\n",
       "      <td>1.313691</td>\n",
       "      <td>1.044437</td>\n",
       "      <td>-0.269254</td>\n",
       "    </tr>\n",
       "    <tr>\n",
       "      <th>19</th>\n",
       "      <td>Summarize the following conversation. #Person1#: How much are you asking for this? #Person2#: I'm offering them to you at 150 yuan a piece. Is that all right? #Person1#: Is tax already included in their price? #Person2#: Yes. Our price can't be matched. #Person1#: Would you consider a volume discount? #Person2#: If you buy 1, 000 or more, you'll get a 10 % discount. #Person1#: I'll accept your offer. Summary: &lt;/s&gt;</td>\n",
       "      <td>&lt;pad&gt; #Person2# offers 150 yuan a piece for 200 dollars. #Person1# will take a 10 % discount if 300 dollars.&lt;/s&gt;</td>\n",
       "      <td>&lt;pad&gt; #Person2# offers 15000 yuan a piece to #Person1# at 150 yuan a piece if #Person1# wants 900.she wants a volume discount.&lt;/s&gt;</td>\n",
       "      <td>2.384971</td>\n",
       "      <td>2.098290</td>\n",
       "      <td>-0.286681</td>\n",
       "    </tr>\n",
       "  </tbody>\n",
       "</table>\n",
       "</div>"
      ],
      "text/plain": [
       "                                                                                                                                                                                                                                                                                                                                                                                                                                                                                                                  query  \\\n",
       "0   Summarize the following conversation. #Person1#: Oh, my God! What's this? #Person2#: What? #Person1#: Look! This window is open. #Person2#: Did you open it before we left? #Person1#: Are you kidding? It's winter. Why would I open it? #Person2#: I don't know. Wait. Is this yours? #Person1#: No! Oh, my God! Someone has broken into the house. #Person2#: It looks that way. That's probably why the door wasn't locked when we came in. #Person1#: I locked it when I left though. #Person2#: Yes, but t...   \n",
       "1   Summarize the following conversation. #Person1#: It smells like an ashtray in here! #Person2#: Hi honey! What's wrong? Why do you have that look on your face? #Person1#: What's wrong? I thought we agreed that you were gonna quit smoking. #Person2#: No! I said I was going to cut down which is very different. You can't just expect me to go cold turkey overnight! #Person1#: Look, there are other ways to quit. You can try the nicotine patch, or nicotine chewing gum. We spend a fortune on cigaret...   \n",
       "2   Summarize the following conversation. #Person1#: I would like to order some internet today. #Person2#: What kind would you like? #Person1#: What kind of internet is there? #Person2#: You can get DEL or dial-up. #Person1#: Which of those two is best? #Person2#: I would recommend DEL. #Person1#: So that one better? #Person2#: It's better because it doesn't tie up the phone. #Person1#: What do you mean by that? #Person2#: DEL isn't connected through your phone line, but dial-up is. #Person1#: S...   \n",
       "3   Summarize the following conversation. #Person1#: Hello? #Person2#: Hello? #Person1#: Can I speak to Li Hong, please? #Person2#: Speaking. #Person1#: Hi, Li Hong. This is Alice. #Person2#: Hi, Alice. How are you? #Person1#: Not bad. Li Hong, I am sorry that I can't go to see Mrs. Brown with you tomorrow morning. My mother is ill. I must take care of her. #Person2#: I'm sorry to hear that. You'd better stay at home. After all, we can visit Mrs. Brown later #Person1#: OK. Bye - bye. #Person2#: ...   \n",
       "4                                                                                                                                                                                                                           Summarize the following conversation. #Person1#: Amanda, how do you like this peaked cap? #Person2#: Didn't you say you want to buy a top hat? #Person1#: But I think this one fits me Well. Why don't you try on the sombrero in black? #Person2#: I don't like caps at all. Summary: </s>   \n",
       "5                                                                                                                                                                         Summarize the following conversation. #Person1#: I'd like to have this cashed, please. #Person2#: Please put you name and address here. May I see your passport? #Person1#: Yes. #Person2#: How would you like it? #Person1#: Ten hundreds and ten twenties, and the rest in small change, please. #Person2#: OK. Here you are. Summary: </s>   \n",
       "6                                                                                                                                                                   Summarize the following conversation. #Person1#: Judy, what is everybody talking about? #Person2#: Haven't you heard? Richard was fired by our manager. #Person1#: You're kidding. It can't be true. #Person2#: Believe it or not. Everybody is talking about it in the company. #Person1#: Really? I'm surprised. #Person2#: Me too. Summary: </s>   \n",
       "7   Summarize the following conversation. #Person1#: Today more and more families have personal computers. People have wider range of choice to communicate with the outside world. #Person2#: Right. With the establishment of Internet and a lot of web companies, people are getting more and more dependent on the web. #Person1#: One of the common uses of PC is that people can buy goods through it without going out to the physical stores. #Person2#: Can you tell me how it is done? #Person1#: If a cus...   \n",
       "8                                                                                                                                                                                                                                         Summarize the following conversation. #Person1#: Could you help me, Sir? My flight got in 15 minutes ago. Everyone else has picked up the luggage but mine hasn't come through. #Person2#: I'm sorry, Madam, I'll go and find out if there is any more to come. Summary: </s>   \n",
       "9   Summarize the following conversation. #Person1#: Hello. I want to reconfirm our flight to London. #Person2#: Yes, sir. Did you call the airline? #Person1#: Yes, I did. But I couldn't communicate with them in English. They speak only Spanish. So I need your help. #Person2#: Certainly, sir. What is the flight number and when are you leaving? #Person1#: We are taking IB 385 to London tomorrow at 1 p. m. #Person2#: Oh, I see, sir. We have the airline office inside the hotel. They have an English...   \n",
       "10  Summarize the following conversation. #Person1#: Let's take a coffee break, shall we? #Person2#: I wish I could, but I can't. #Person1#: What keeps you so busy? You've been sitting there for hours. You've got to walk around. You just can't stay on the computer forever. #Person2#: Well, I am up to my neck in work. I've got to finish this report. Sarah needs it by noon. I don't want to be scolded if I can't finish my work by the deadline. #Person1#: I understand that, but you'd feel better if ...   \n",
       "11  Summarize the following conversation. #Person1#: Where shall I register, please? #Person2#: Here. Do you have a registration card? #Person1#: Yes. Here you are. #Person2#: Please register your information here and pay for it. And I'll make a medical record for you. #Person1#: OK. How much do I need to pay for the registration? #Person2#: Please pay ten yuan for the registration. #Person1#: Here is my money. #Person2#: This is your registration card. Please don't lose it and bring it whenever...   \n",
       "12  Summarize the following conversation. #Person1#: Here is the final draft of our contract. I'm glad that we have reached an agreement on almost every term in our trade. #Person2#: Yes, it seems to me we have come quite a long way. However, let me take a close look at the final draft. #Person1#: Do you have some points to bring up? #Person2#: Well, everything we've discussed seems to be here. #Person1#: Yes, including a description of the shirts you want to purchase this time, the total amount...   \n",
       "13                      Summarize the following conversation. #Person1#: Mom, I just finished my paper. Can you proofread it before I hand it in? #Person2#: Sure, let's take a look. Sweetie, this is terrific. Your ideas are so original. #Person1#: Thanks. #Person2#: I can tell you worked hard on it. #Person1#: I really did! I started thinking about what I wanted to say three weeks ago. #Person2#: Well, it was definitely worth all the time. #Person1#: Let's just hope my teacher agrees. Summary: </s>   \n",
       "14  Summarize the following conversation. #Person1#: Could you help me figure out how to look for a job? #Person2#: We have lots of options, what type of job do you need? #Person1#: I want to work in an office. #Person2#: Do you want to work part-time or full-time? #Person1#: I want to work full-time. #Person2#: We have binders with local job listings or you can make use of the computers. OK? #Person1#: I am confused a bit but I am sure that I can figure it out. #Person2#: If you make an appoint...   \n",
       "15  Summarize the following conversation. #Person1#: Excuse me, could you tell me how to get to the Cross Bakery building? #Person2#: The Cross Bakery building? Oh sure. You're actually walking in the opposite direction. #Person1#: Oh, you're kidding! I thought I was heading east. #Person2#: No, east is the other direction. To get to the Bakery, you need to turn around and go three blocks to Broadway. When you get to the intersection of Broadway and Elm, you hang a left. Go straight down that st...   \n",
       "16  Summarize the following conversation. #Person1#: So how did you like the restaurant? #Person2#: Actually, it could have been better. #Person1#: What didn't you like about it? #Person2#: It is a new restaurant. I don't think they have their act together yet. #Person1#: What did you think about the food? #Person2#: I felt that the food was pretty mediocre. #Person1#: The service wasn't that great, either. #Person2#: I agree. The service was not good. #Person1#: Do you think that you want to tr...   \n",
       "17  Summarize the following conversation. #Person1#: I'm forming a music band. #Person2#: Do you already know how to play an instrument? #Person1#: Uh... Yeah! I'Ve told you a thousand times that I'm learning to play the drums. Now that I know how to play well, I would like to form a rock band. #Person2#: Aside from yourself, who are the other members of the band? #Person1#: We have a guy who plays guitar, and another who plays bass. Although we still haven't found anyone to be our singer. You t...   \n",
       "18          Summarize the following conversation. #Person1#: What can I do for you, madam? #Person2#: I'd like to buy a toy car for my son. #Person1#: How about this one? #Person2#: It looks nice. How much is it? #Person1#: They're three hundred dollars. #Person2#: Oh, I'm afraid it's too expensive. Can you show me something cheaper? #Person1#: OK, This one is one hundred and twenty. It's the cheapest here. #Person2#: OK, I'll take it. Here's the money. #Person1#: Thank you very much. Summary: </s>   \n",
       "19                                                                                    Summarize the following conversation. #Person1#: How much are you asking for this? #Person2#: I'm offering them to you at 150 yuan a piece. Is that all right? #Person1#: Is tax already included in their price? #Person2#: Yes. Our price can't be matched. #Person1#: Would you consider a volume discount? #Person2#: If you buy 1, 000 or more, you'll get a 10 % discount. #Person1#: I'll accept your offer. Summary: </s>   \n",
       "\n",
       "                                                                                                                                                                                                                                                                     response_before  \\\n",
       "0                                                                                                      <pad> #Person1# tells Allen that it's winter and people who stole the house aregies. They talk about top secretly their movements and the knowledge of what is happening.</s>   \n",
       "1                                           <pad> #Person2# smells like an ashtray. #Person1# thinks the inhaler could kill #Person2#, because of a bad taste in the air. #Person2# took a panic, and #Person1# says he shouldn't smoke. #Person2# will not quit hanging around.</s>   \n",
       "2                                                                                                                                                                                     <pad> When his phone is on the line, he can't use #Person1#'s phone while on the internet.</s>   \n",
       "3                                                                                                                                                                                          <pad> Li Hong can't go to see Mrs. Brown tomorrow morning because her mother is sick.</s>   \n",
       "4                                                                                                                                                                              <pad> Amanda tells #Person1# that she's impressed by the hat. #Person2# doesn't like caps at all.</s>   \n",
       "5                                                                                                                                                                            <pad> #Person1# wants to cashed as many hundreds and ten twenties in small change with #P2#'s help.</s>   \n",
       "6                                                                                                                                                                                                  <pad> Judy thinks Richard who was fired by his manager is too fun to be true.</s>   \n",
       "7   <pad> #Person1# tells about the advantages of using computer technology. #Person1# explains in detail the many advantages of computer equipment. #Person2# also explains the nature of computer equipment. Then #Person1# shows the advantages of computer's user interface.</s>   \n",
       "8                                                                                                     <pad> I turned up the reservation because there was a few people in the flight, but #Person1#'s already already checked in. #Person2# says there's no need for my luggage.</s>   \n",
       "9                                                                                                                             <pad> #Person1# questions the airlines for reconfirming the flight to London tomorrow at 1 p.m. #Person1# has mellified to the hotel's assistance.</s>   \n",
       "10                                                                                                                                      <pad> #Person2# has to work because of the deadline that Sarah needs to finish. #Person1# suggests taking a coffee break to feel better.</s>   \n",
       "11                                                  <pad> #Person1# needs to register for the doctor's appointment. #Person2# asks him to pay one yuan per appointment paid for with ten yuan all the time. #Person2# will get inside the hospital after #Person2#'s assistance.</s>   \n",
       "12                                                                                                                                                      <pad> #Person1# explains -- even though it's a little late, they have reached an agreement and will sign their contract.</s>   \n",
       "13                                                                                                                                                                               <pad> Mom gives her a rating for her paper. #Person1# works hard to perfect it for her teacher.</s>   \n",
       "14                                                                                                                                                                                  <pad> #Person1# wants a job with full-time and can successfully register for the job center.</s>   \n",
       "15                                                                                              <pad> #Person1# asks to been you at the cross bakery. #Person2# tells #Person1# how to get to the Cross Bakery. If #Person1# joins #Person2#, #Person2# shows #Person1# the way.</s>   \n",
       "16                                                                                                    <pad> #Person1# doesn't like the new restaurant. #Person2# thinks the food is pretty mediocre and mediocre service. #Person1# doesn't want to visit this restaurant again.</s>   \n",
       "17                                                      <pad> #Person1#'s forming a music band. #Person2# is a singer. #Person1# recommends forming a band to #P2#. #Person2# agrees though #Person1# won't have enough space for the amplifiers, microphones or even the drums.</s>   \n",
       "18                                                                                                                                                                                                                  <pad> #Person1# shows me cheaper toy cars to buy for my son.</s>   \n",
       "19                                                                                                                                                                  <pad> #Person2# offers 150 yuan a piece for 200 dollars. #Person1# will take a 10 % discount if 300 dollars.</s>   \n",
       "\n",
       "                                                                                                                                                                                                                                                       response_after  \\\n",
       "0                                                                             <pad> Allen breaks into his house and breaks in at first. He opens the door and finds an old fridge. Then he hears an attack but then it's death, leaving Allen with nowhere to go.</s>   \n",
       "1                                                                                           <pad> #Person1# tells #Person2# about finding another way to quit smoking and establishing a problem which isn't easy to understand. #Person2# feels bad and move on.</s>   \n",
       "2                                                                                                                                                                        <pad> #Person1# orders DEL in the Internet Shop and there are two kinds of Internet out.</s>   \n",
       "3                                                                                                                                                                                <pad> Li Hong can't come to Hangzhou tomorrow morning because her mother is ill.</s>   \n",
       "4                                                                                                                                                                                                            <pad> Amanda likes the peaked cap in #Person1# best.</s>   \n",
       "5                                                                                                                                              <pad> #Person1# wants to cashed ten hundreds and ten twenties in small change. #Person2# helps her go out and pay.</s>   \n",
       "6                                                                                                                                                    <pad> Richard was fired by the manager because #Person1# thinks everyone is talking about it in the company.</s>   \n",
       "7   <pad> #Person1# tells with reference #P2#’s why computers are becoming more common. Latest product of a new invention is the ordering of items from web domain. They believe they are useful for ships: 1tons and strick tickets diesel among other machines.</s>   \n",
       "8                                                                                                                                                                                             <pad> #Person1# wants to know why the flight got in 15 minutes ago.</s>   \n",
       "9                                                                                                                                       <pad> #Person1# calls to confirm a flight to London. #Person2# asks the number and time of departure. Then they dial 535.</s>   \n",
       "10                                                                                                                                                 <pad> #Person2# has to finish his report by noon. #Person1# doesn't think he can take a coffee break to relax.</s>   \n",
       "11                                                                       <pad> #Person2# wants to register #Person1# to have a medical record. And #Person2# tells #Person1# to pay for it. #Person1# returns to the pharmacy to pay ten yuan for an examination.</s>   \n",
       "12                                                                    <pad> #Person1# looks at the final draft of the contract and asks for some points. #Person2# will check over any notes again on every detail. #Person2# also asks for the quality standard.</s>   \n",
       "13                                                                                                                                                                   <pad> #Person1# just finished her paper. #Person2# praises #Person1#'s ideas and it's great.</s>   \n",
       "14                                                                                                                     <pad> #Person1# asks #Person2# to help find the newest employment and offers tips to help first. #Person2# will help #Person1# find a job.</s>   \n",
       "15                                                                                                                     <pad> #Person1# doesn't know the way to the Cross Bakery, but #Person2# tells #Person1# to head east. #Person1# wants to see the Kernpack.</s>   \n",
       "16                         <pad> #Person2# had the worst experience at the new restaurant. #Person1# thinks they have moved on. #Person2# says [at least] it's over and everyone else, including #Person1#, has really been ignoring that restaurant for so long.</s>   \n",
       "17                                                            <pad> #Person1#'s forming a music band. #Person1# tells #P2# the details of the music band. Then, #P2# lets #Person1# audition. #Person1# decides to go to spend three months auditioning together.</s>   \n",
       "18                                                                                                                                                                              <pad> #Person1# teaches her how to get a toy car cheaper and cheaper for her son.</s>   \n",
       "19                                                                                                                                 <pad> #Person2# offers 15000 yuan a piece to #Person1# at 150 yuan a piece if #Person1# wants 900.she wants a volume discount.</s>   \n",
       "\n",
       "    reward_before  reward_after  reward_diff  \n",
       "0        0.811695      2.056078     1.244384  \n",
       "1        1.195921      1.815888     0.619967  \n",
       "2        2.035398      2.582770     0.547373  \n",
       "3        1.659602      2.131713     0.472111  \n",
       "4        1.425087      1.689063     0.263976  \n",
       "5        1.049919      1.288102     0.238183  \n",
       "6        1.156641      1.364785     0.208144  \n",
       "7        2.409236      2.610445     0.201209  \n",
       "8        2.246698      2.309108     0.062409  \n",
       "9        1.946794      2.002423     0.055629  \n",
       "10       1.946600      1.879642    -0.066959  \n",
       "11       1.482997      1.386802    -0.096195  \n",
       "12       3.184249      3.066052    -0.118197  \n",
       "13       2.858400      2.738801    -0.119599  \n",
       "14       2.094009      1.970962    -0.123046  \n",
       "15       2.704592      2.570537    -0.134056  \n",
       "16       2.334052      2.164332    -0.169721  \n",
       "17       2.742684      2.551941    -0.190743  \n",
       "18       1.313691      1.044437    -0.269254  \n",
       "19       2.384971      2.098290    -0.286681  "
      ]
     },
     "execution_count": 33,
     "metadata": {},
     "output_type": "execute_result"
    }
   ],
   "source": [
    "pd.set_option('display.max_colwidth', 500)\n",
    "df_compare_results = pd.DataFrame(compare_results)\n",
    "df_compare_results[\"reward_diff\"] = df_compare_results['reward_after'] - df_compare_results['reward_before']\n",
    "df_compare_results_sorted = df_compare_results.sort_values(by=['reward_diff'], ascending=False).reset_index(drop=True)\n",
    "df_compare_results_sorted"
   ]
  },
  {
   "cell_type": "code",
   "execution_count": null,
   "id": "04bf8a82-1a32-4c41-88e5-9622573a6ef2",
   "metadata": {},
   "outputs": [],
   "source": []
  }
 ],
 "metadata": {
  "kernelspec": {
   "display_name": "genai",
   "language": "python",
   "name": "genai"
  },
  "language_info": {
   "codemirror_mode": {
    "name": "ipython",
    "version": 3
   },
   "file_extension": ".py",
   "mimetype": "text/x-python",
   "name": "python",
   "nbconvert_exporter": "python",
   "pygments_lexer": "ipython3",
   "version": "3.10.13"
  }
 },
 "nbformat": 4,
 "nbformat_minor": 5
}
